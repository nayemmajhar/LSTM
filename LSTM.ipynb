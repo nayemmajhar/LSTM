{
  "nbformat": 4,
  "nbformat_minor": 0,
  "metadata": {
    "colab": {
      "name": "LSTM.ipynb",
      "provenance": []
    },
    "kernelspec": {
      "name": "python3",
      "display_name": "Python 3"
    },
    "accelerator": "GPU"
  },
  "cells": [
    {
      "cell_type": "code",
      "metadata": {
        "id": "VLhSBCgxu7FY",
        "colab_type": "code",
        "colab": {}
      },
      "source": [
        "import os\n",
        "import numpy as np\n",
        "import tensorflow as tf\n",
        "from tensorflow import keras\n",
        "import pandas as pd\n",
        "import seaborn as sns\n",
        "from pylab import rcParams\n",
        "import matplotlib.pyplot as plt\n",
        "from matplotlib import rc\n",
        "from sklearn.preprocessing import MinMaxScaler\n",
        "from tensorflow.keras.layers import Bidirectional, Dropout, Activation, Dense, LSTM\n",
        "from tensorflow.python.keras.layers import CuDNNLSTM\n",
        "from tensorflow.keras.models import Sequential\n",
        "\n",
        "%matplotlib inline\n",
        "\n",
        "sns.set(style='whitegrid', palette='muted', font_scale=1.5)\n",
        "\n",
        "rcParams['figure.figsize'] = 14, 8\n",
        "\n",
        "RANDOM_SEED = 42\n",
        "\n",
        "np.random.seed(RANDOM_SEED)"
      ],
      "execution_count": null,
      "outputs": []
    },
    {
      "cell_type": "markdown",
      "metadata": {
        "id": "H9Dikwc_ycNV",
        "colab_type": "text"
      },
      "source": [
        "##Preparing data"
      ]
    },
    {
      "cell_type": "code",
      "metadata": {
        "id": "gu5vgHx2u_W8",
        "colab_type": "code",
        "colab": {}
      },
      "source": [
        "# Data comes from:\n",
        "# https://finance.yahoo.com/quote/BTC-USD/history?period1=1279314000&period2=1556053200&interval=1d&filter=history&frequency=1d\n",
        "\n",
        "csv_path = \"https://raw.githubusercontent.com/curiousily/Deep-Learning-For-Hackers/master/data/3.stock-prediction/BTC-USD.csv\"\n",
        "# csv_path = \"https://raw.githubusercontent.com/curiousily/Deep-Learning-For-Hackers/master/data/3.stock-prediction/AAPL.csv\""
      ],
      "execution_count": null,
      "outputs": []
    },
    {
      "cell_type": "code",
      "metadata": {
        "id": "3vAmT5BfvEWg",
        "colab_type": "code",
        "colab": {}
      },
      "source": [
        "df = pd.read_csv(csv_path, parse_dates=['Date']) # parsing data from data source\n",
        "df = df.sort_values('Date') # sorting data by Date\n",
        "df.head() # sample representaion of data"
      ],
      "execution_count": null,
      "outputs": []
    },
    {
      "cell_type": "code",
      "metadata": {
        "id": "tw9gNx2NvLVT",
        "colab_type": "code",
        "colab": {}
      },
      "source": [
        "df.shape # show number data and data columns"
      ],
      "execution_count": null,
      "outputs": []
    },
    {
      "cell_type": "code",
      "metadata": {
        "id": "QNaF4WwkvSvm",
        "colab_type": "code",
        "colab": {}
      },
      "source": [
        "# ploting data base on time(day) (plot represents original closing price for each)\n",
        "\n",
        "ax = df.plot(x='Date', y='Close');\n",
        "ax.set_xlabel(\"Date\")\n",
        "ax.set_ylabel(\"Close Price (USD)\")"
      ],
      "execution_count": null,
      "outputs": []
    },
    {
      "cell_type": "markdown",
      "metadata": {
        "id": "9zHLLVEb1C3p",
        "colab_type": "text"
      },
      "source": [
        "## Data preprocessing\n"
      ]
    },
    {
      "cell_type": "code",
      "metadata": {
        "id": "36zMpmPYvWy8",
        "colab_type": "code",
        "colab": {}
      },
      "source": [
        "scaler = MinMaxScaler()\n",
        "\n",
        "close_price = df.Close.values.reshape(-1, 1)\n",
        "\n",
        "scaled_close = scaler.fit_transform(close_price)"
      ],
      "execution_count": null,
      "outputs": []
    },
    {
      "cell_type": "code",
      "metadata": {
        "id": "qMRoHrR8vcI9",
        "colab_type": "code",
        "colab": {}
      },
      "source": [
        "scaled_close.shape"
      ],
      "execution_count": null,
      "outputs": []
    },
    {
      "cell_type": "code",
      "metadata": {
        "id": "IiGgFna8vfNU",
        "colab_type": "code",
        "colab": {}
      },
      "source": [
        "np.isnan(scaled_close).any()"
      ],
      "execution_count": null,
      "outputs": []
    },
    {
      "cell_type": "code",
      "metadata": {
        "id": "x7Zs8VfwviHl",
        "colab_type": "code",
        "colab": {}
      },
      "source": [
        "scaled_close = scaled_close[~np.isnan(scaled_close)]"
      ],
      "execution_count": null,
      "outputs": []
    },
    {
      "cell_type": "code",
      "metadata": {
        "id": "8pTNV7Ecvm5U",
        "colab_type": "code",
        "colab": {}
      },
      "source": [
        "scaled_close = scaled_close.reshape(-1, 1)"
      ],
      "execution_count": null,
      "outputs": []
    },
    {
      "cell_type": "code",
      "metadata": {
        "id": "x5aT7qh0vqoo",
        "colab_type": "code",
        "colab": {}
      },
      "source": [
        "np.isnan(scaled_close).any()\n"
      ],
      "execution_count": null,
      "outputs": []
    },
    {
      "cell_type": "code",
      "metadata": {
        "id": "d0vkl2tavr2G",
        "colab_type": "code",
        "colab": {}
      },
      "source": [
        "SEQ_LEN = 100\n",
        "\n",
        "def to_sequences(data, seq_len):\n",
        "    d = []\n",
        "\n",
        "    for index in range(len(data) - seq_len):\n",
        "        d.append(data[index: index + seq_len])\n",
        "\n",
        "    return np.array(d)\n",
        "\n",
        "def preprocess(data_raw, seq_len, train_split):\n",
        "\n",
        "    data = to_sequences(data_raw, seq_len)\n",
        "\n",
        "    num_train = int(train_split * data.shape[0])\n",
        "\n",
        "    X_train = data[:num_train, :-1, :]\n",
        "    y_train = data[:num_train, -1, :]\n",
        "\n",
        "    X_test = data[num_train:, :-1, :]\n",
        "    y_test = data[num_train:, -1, :]\n",
        "\n",
        "    return X_train, y_train, X_test, y_test\n",
        "\n",
        "\n",
        "X_train, y_train, X_test, y_test = preprocess(scaled_close, SEQ_LEN, train_split = 0.95)"
      ],
      "execution_count": null,
      "outputs": []
    },
    {
      "cell_type": "code",
      "metadata": {
        "id": "YJqAuq2WvukP",
        "colab_type": "code",
        "colab": {}
      },
      "source": [
        "X_train.shape"
      ],
      "execution_count": null,
      "outputs": []
    },
    {
      "cell_type": "code",
      "metadata": {
        "id": "idMEUMT1vxEU",
        "colab_type": "code",
        "colab": {}
      },
      "source": [
        "X_test.shape"
      ],
      "execution_count": null,
      "outputs": []
    },
    {
      "cell_type": "markdown",
      "metadata": {
        "id": "9-B_55DE2NGu",
        "colab_type": "text"
      },
      "source": [
        "## Model"
      ]
    },
    {
      "cell_type": "code",
      "metadata": {
        "id": "Bpz2DXxvvzC4",
        "colab_type": "code",
        "colab": {}
      },
      "source": [
        "DROPOUT = 0.2\n",
        "WINDOW_SIZE = SEQ_LEN - 1\n",
        "\n",
        "model = keras.Sequential()\n",
        "\n",
        "model.add(Bidirectional(CuDNNLSTM(WINDOW_SIZE, return_sequences=True),\n",
        "                        input_shape=(WINDOW_SIZE, X_train.shape[-1])))\n",
        "model.add(Dropout(rate=DROPOUT))\n",
        "\n",
        "model.add(Bidirectional(CuDNNLSTM((WINDOW_SIZE * 2), return_sequences=True)))\n",
        "model.add(Dropout(rate=DROPOUT))\n",
        "\n",
        "model.add(Bidirectional(CuDNNLSTM(WINDOW_SIZE, return_sequences=False)))\n",
        "\n",
        "model.add(Dense(units=1))\n",
        "\n",
        "model.add(Activation('linear'))"
      ],
      "execution_count": null,
      "outputs": []
    },
    {
      "cell_type": "markdown",
      "metadata": {
        "id": "J96e3_Qz2V9S",
        "colab_type": "text"
      },
      "source": [
        "## Training"
      ]
    },
    {
      "cell_type": "code",
      "metadata": {
        "id": "zN1HNG53wTMV",
        "colab_type": "code",
        "colab": {}
      },
      "source": [
        "model.compile(\n",
        "    loss='mean_squared_error', \n",
        "    optimizer='adam'\n",
        ")"
      ],
      "execution_count": null,
      "outputs": []
    },
    {
      "cell_type": "code",
      "metadata": {
        "id": "XmOe07KPwXr5",
        "colab_type": "code",
        "colab": {}
      },
      "source": [
        "BATCH_SIZE = 64\n",
        "\n",
        "history = model.fit(\n",
        "    X_train, \n",
        "    y_train, \n",
        "    epochs=50, \n",
        "    batch_size=BATCH_SIZE, \n",
        "    shuffle=False,\n",
        "    validation_split=0.1\n",
        ")"
      ],
      "execution_count": null,
      "outputs": []
    },
    {
      "cell_type": "markdown",
      "metadata": {
        "id": "oph4jlqd2m-N",
        "colab_type": "text"
      },
      "source": [
        "## Test with model"
      ]
    },
    {
      "cell_type": "code",
      "metadata": {
        "id": "9RFih_05wa4L",
        "colab_type": "code",
        "colab": {}
      },
      "source": [
        "model.evaluate(X_test, y_test)"
      ],
      "execution_count": null,
      "outputs": []
    },
    {
      "cell_type": "code",
      "metadata": {
        "id": "tRfG4Pr1wekz",
        "colab_type": "code",
        "colab": {}
      },
      "source": [
        "plt.plot(history.history['loss'])\n",
        "plt.plot(history.history['val_loss'])\n",
        "plt.title('model loss')\n",
        "plt.ylabel('loss')\n",
        "plt.xlabel('epoch')\n",
        "plt.legend(['loss', 'val_loss'], loc='upper left')\n",
        "plt.show()"
      ],
      "execution_count": null,
      "outputs": []
    },
    {
      "cell_type": "markdown",
      "metadata": {
        "id": "oJ83xc5J27jD",
        "colab_type": "text"
      },
      "source": [
        "## Predicting Bitcoin price"
      ]
    },
    {
      "cell_type": "code",
      "metadata": {
        "id": "kPahQ4qiwhnK",
        "colab_type": "code",
        "colab": {}
      },
      "source": [
        "y_hat = model.predict(X_test)\n",
        "\n",
        "y_test_inverse = scaler.inverse_transform(y_test)\n",
        "y_hat_inverse = scaler.inverse_transform(y_hat)\n",
        " \n",
        "plt.plot(y_test_inverse, label=\"Actual Price\", color='green')\n",
        "plt.plot(y_hat_inverse, label=\"Predicted Price\", color='red')\n",
        " \n",
        "plt.title('Bitcoin price prediction')\n",
        "plt.xlabel('Time [days]')\n",
        "plt.ylabel('Price')\n",
        "plt.legend(loc='best')\n",
        " \n",
        "plt.show();"
      ],
      "execution_count": null,
      "outputs": []
    }
  ]
}